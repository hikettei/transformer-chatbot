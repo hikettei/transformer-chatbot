{
 "cells": [
  {
   "cell_type": "code",
   "execution_count": null,
   "id": "89cd1abf-d7d6-4a52-b40c-f461ab6b8080",
   "metadata": {},
   "outputs": [],
   "source": [
    "import json\n",
    "import random\n",
    "import re\n",
    "from tqdm import tqdm\n",
    "random.seed(42)"
   ]
  },
  {
   "cell_type": "code",
   "execution_count": null,
   "id": "0394cb72-fe13-4486-abc1-38a62d5e2234",
   "metadata": {},
   "outputs": [],
   "source": [
    "test_data_indices = []\n",
    "batch_size = 100\n",
    "N = 100\n",
    "train_data = []\n",
    "test_data  = []\n",
    "\n",
    "with open(\"./nucc_discord.txt\", \"r\") as f:\n",
    "    dialogs = f.read().split(\"\\n\")\n",
    "\n",
    "with open(\"./discord-dialogs.json\", \"r\") as f:\n",
    "    dialogs += json.load(f)"
   ]
  },
  {
   "cell_type": "code",
   "execution_count": null,
   "id": "e42e7b49-a235-4ee9-998f-cf4908e639f6",
   "metadata": {},
   "outputs": [],
   "source": [
    "def batch_random():\n",
    "    return random.choice(range(0, len(dialogs), 100))\n",
    "\n",
    "def sentence_preprocessing(sentence):\n",
    "    flag = True\n",
    "    \n",
    "    # assure its not emoji/ channnel/ mention\n",
    "    if sentence.startswith(\"<\"):\n",
    "        flag = False\n",
    "    \n",
    "    # message should begins with ...\n",
    "    if not re.match(r'[亜-熙ぁ-んァ-ヶa-zA-Z]', sentence):\n",
    "        flag = False\n",
    "    \n",
    "    # assure its not a command prefix\n",
    "    if re.match(r'[!|?|@|/]', sentence[0:3]):\n",
    "        flag = False\n",
    "    \n",
    "    # no url\n",
    "    if re.search(\"http\", sentence):\n",
    "        flag = False\n",
    "        \n",
    "    sentence = re.sub(r'<(!|&|@|#|:|[0-9a-zA-Z])+>', \"\", sentence)\n",
    "    sentence = re.sub(r'[亜-熙ぁ-んァ-ヶa-zA-Z]+[さん|君|ちゃん]', \"あなたは\", sentence)\n",
    "    if sentence.endswith(\" \"):\n",
    "        sentence = sentence[:-1]\n",
    "        \n",
    "    if sentence == \"\":\n",
    "        flag = False\n",
    "        \n",
    "    if len(sentence) > 60:\n",
    "        flag = False\n",
    "    \n",
    "    if flag:\n",
    "        return sentence\n",
    "    else:\n",
    "        return False"
   ]
  },
  {
   "cell_type": "code",
   "execution_count": null,
   "id": "9376a7eb-2ce7-42cc-a9a5-22ad4f30d4ab",
   "metadata": {},
   "outputs": [],
   "source": [
    "dialogs = [sentence_preprocessing(x) for x in tqdm(dialogs) if sentence_preprocessing(x)]\n",
    "len(dialogs)"
   ]
  },
  {
   "cell_type": "code",
   "execution_count": null,
   "id": "0804f5a4-e39a-4535-93f4-d3925701c17e",
   "metadata": {},
   "outputs": [],
   "source": [
    "def push_test_data():\n",
    "    global test_data\n",
    "    i = batch_random()\n",
    "    test_data_indices.append(i)\n",
    "    test_data += dialogs[i:i+N]\n",
    "\n",
    "def collect_train_data():\n",
    "    global train_data\n",
    "    for i in range(0, len(dialogs), 100):\n",
    "        if not i in test_data_indices:\n",
    "            train_data += dialogs[i:i+N]"
   ]
  },
  {
   "cell_type": "code",
   "execution_count": null,
   "id": "143c8348-42fe-4046-9d10-d7841f1e8fab",
   "metadata": {},
   "outputs": [],
   "source": [
    "for _ in range(N):\n",
    "    push_test_data()\n",
    "\n",
    "collect_train_data()\n",
    "len(train_data), len(test_data)"
   ]
  },
  {
   "cell_type": "code",
   "execution_count": null,
   "id": "8e49b9ab-a554-4bd1-89d2-0bf6d49f34ac",
   "metadata": {},
   "outputs": [],
   "source": [
    "with open(\"./input/train.txt\", \"w\") as f:\n",
    "    f.write(\"\\n\".join(train_data))\n",
    "    \n",
    "with open(\"./input/test.txt\", \"w\") as f:\n",
    "    f.write(\"\\n\".join(test_data))"
   ]
  }
 ],
 "metadata": {
  "kernelspec": {
   "display_name": "Python 3 (ipykernel)",
   "language": "python",
   "name": "python3"
  },
  "language_info": {
   "codemirror_mode": {
    "name": "ipython",
    "version": 3
   },
   "file_extension": ".py",
   "mimetype": "text/x-python",
   "name": "python",
   "nbconvert_exporter": "python",
   "pygments_lexer": "ipython3",
   "version": "3.8.6"
  }
 },
 "nbformat": 4,
 "nbformat_minor": 5
}
